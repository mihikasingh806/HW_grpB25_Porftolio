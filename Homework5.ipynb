{
 "cells": [
  {
   "cell_type": "code",
   "execution_count": 14,
   "id": "03ca62db",
   "metadata": {},
   "outputs": [],
   "source": [
    "import numpy as np\n",
    "import pandas as pd\n",
    "import matplotlib.pyplot as plt\n",
    "import statistics\n",
    "factor_data=pd.read_excel('factor_pricing_data_monthly.xlsx', sheet_name='factors (excess returns)')\n",
    "factor_data = factor_data.sort_values('Date').reset_index(drop=True)\n"
   ]
  },
  {
   "cell_type": "markdown",
   "id": "04f27f86",
   "metadata": {},
   "source": [
    "## The Factors"
   ]
  },
  {
   "cell_type": "markdown",
   "id": "2dcc362c",
   "metadata": {},
   "source": [
    "1. Analyze the factors, similar to how you analyzed the three Fama-French factors in Homework 4."
   ]
  },
  {
   "cell_type": "code",
   "execution_count": 15,
   "id": "d64982b9",
   "metadata": {},
   "outputs": [
    {
     "name": "stdout",
     "output_type": "stream",
     "text": [
      "\n",
      "Performance Statistics for MKT\n"
     ]
    },
    {
     "data": {
      "text/html": [
       "<div>\n",
       "<style scoped>\n",
       "    .dataframe tbody tr th:only-of-type {\n",
       "        vertical-align: middle;\n",
       "    }\n",
       "\n",
       "    .dataframe tbody tr th {\n",
       "        vertical-align: top;\n",
       "    }\n",
       "\n",
       "    .dataframe thead th {\n",
       "        text-align: right;\n",
       "    }\n",
       "</style>\n",
       "<table border=\"1\" class=\"dataframe\">\n",
       "  <thead>\n",
       "    <tr style=\"text-align: right;\">\n",
       "      <th></th>\n",
       "      <th>Performance Statistics</th>\n",
       "    </tr>\n",
       "  </thead>\n",
       "  <tbody>\n",
       "    <tr>\n",
       "      <th>Mean</th>\n",
       "      <td>0.0073</td>\n",
       "    </tr>\n",
       "    <tr>\n",
       "      <th>Volatility</th>\n",
       "      <td>0.0451</td>\n",
       "    </tr>\n",
       "    <tr>\n",
       "      <th>Sharpe</th>\n",
       "      <td>0.1619</td>\n",
       "    </tr>\n",
       "    <tr>\n",
       "      <th>VaR(0.05)</th>\n",
       "      <td>-0.0724</td>\n",
       "    </tr>\n",
       "  </tbody>\n",
       "</table>\n",
       "</div>"
      ],
      "text/plain": [
       "            Performance Statistics\n",
       "Mean                        0.0073\n",
       "Volatility                  0.0451\n",
       "Sharpe                      0.1619\n",
       "VaR(0.05)                  -0.0724"
      ]
     },
     "metadata": {},
     "output_type": "display_data"
    },
    {
     "name": "stdout",
     "output_type": "stream",
     "text": [
      "\n",
      "Performance Statistics for SMB\n"
     ]
    },
    {
     "data": {
      "text/html": [
       "<div>\n",
       "<style scoped>\n",
       "    .dataframe tbody tr th:only-of-type {\n",
       "        vertical-align: middle;\n",
       "    }\n",
       "\n",
       "    .dataframe tbody tr th {\n",
       "        vertical-align: top;\n",
       "    }\n",
       "\n",
       "    .dataframe thead th {\n",
       "        text-align: right;\n",
       "    }\n",
       "</style>\n",
       "<table border=\"1\" class=\"dataframe\">\n",
       "  <thead>\n",
       "    <tr style=\"text-align: right;\">\n",
       "      <th></th>\n",
       "      <th>Performance Statistics</th>\n",
       "    </tr>\n",
       "  </thead>\n",
       "  <tbody>\n",
       "    <tr>\n",
       "      <th>Mean</th>\n",
       "      <td>0.0005</td>\n",
       "    </tr>\n",
       "    <tr>\n",
       "      <th>Volatility</th>\n",
       "      <td>0.0292</td>\n",
       "    </tr>\n",
       "    <tr>\n",
       "      <th>Sharpe</th>\n",
       "      <td>0.0174</td>\n",
       "    </tr>\n",
       "    <tr>\n",
       "      <th>VaR(0.05)</th>\n",
       "      <td>-0.0431</td>\n",
       "    </tr>\n",
       "  </tbody>\n",
       "</table>\n",
       "</div>"
      ],
      "text/plain": [
       "            Performance Statistics\n",
       "Mean                        0.0005\n",
       "Volatility                  0.0292\n",
       "Sharpe                      0.0174\n",
       "VaR(0.05)                  -0.0431"
      ]
     },
     "metadata": {},
     "output_type": "display_data"
    },
    {
     "name": "stdout",
     "output_type": "stream",
     "text": [
      "\n",
      "Performance Statistics for HML\n"
     ]
    },
    {
     "data": {
      "text/html": [
       "<div>\n",
       "<style scoped>\n",
       "    .dataframe tbody tr th:only-of-type {\n",
       "        vertical-align: middle;\n",
       "    }\n",
       "\n",
       "    .dataframe tbody tr th {\n",
       "        vertical-align: top;\n",
       "    }\n",
       "\n",
       "    .dataframe thead th {\n",
       "        text-align: right;\n",
       "    }\n",
       "</style>\n",
       "<table border=\"1\" class=\"dataframe\">\n",
       "  <thead>\n",
       "    <tr style=\"text-align: right;\">\n",
       "      <th></th>\n",
       "      <th>Performance Statistics</th>\n",
       "    </tr>\n",
       "  </thead>\n",
       "  <tbody>\n",
       "    <tr>\n",
       "      <th>Mean</th>\n",
       "      <td>0.0022</td>\n",
       "    </tr>\n",
       "    <tr>\n",
       "      <th>Volatility</th>\n",
       "      <td>0.0314</td>\n",
       "    </tr>\n",
       "    <tr>\n",
       "      <th>Sharpe</th>\n",
       "      <td>0.0691</td>\n",
       "    </tr>\n",
       "    <tr>\n",
       "      <th>VaR(0.05)</th>\n",
       "      <td>-0.0421</td>\n",
       "    </tr>\n",
       "  </tbody>\n",
       "</table>\n",
       "</div>"
      ],
      "text/plain": [
       "            Performance Statistics\n",
       "Mean                        0.0022\n",
       "Volatility                  0.0314\n",
       "Sharpe                      0.0691\n",
       "VaR(0.05)                  -0.0421"
      ]
     },
     "metadata": {},
     "output_type": "display_data"
    },
    {
     "name": "stdout",
     "output_type": "stream",
     "text": [
      "\n",
      "Performance Statistics for RMW\n"
     ]
    },
    {
     "data": {
      "text/html": [
       "<div>\n",
       "<style scoped>\n",
       "    .dataframe tbody tr th:only-of-type {\n",
       "        vertical-align: middle;\n",
       "    }\n",
       "\n",
       "    .dataframe tbody tr th {\n",
       "        vertical-align: top;\n",
       "    }\n",
       "\n",
       "    .dataframe thead th {\n",
       "        text-align: right;\n",
       "    }\n",
       "</style>\n",
       "<table border=\"1\" class=\"dataframe\">\n",
       "  <thead>\n",
       "    <tr style=\"text-align: right;\">\n",
       "      <th></th>\n",
       "      <th>Performance Statistics</th>\n",
       "    </tr>\n",
       "  </thead>\n",
       "  <tbody>\n",
       "    <tr>\n",
       "      <th>Mean</th>\n",
       "      <td>0.0037</td>\n",
       "    </tr>\n",
       "    <tr>\n",
       "      <th>Volatility</th>\n",
       "      <td>0.0239</td>\n",
       "    </tr>\n",
       "    <tr>\n",
       "      <th>Sharpe</th>\n",
       "      <td>0.1533</td>\n",
       "    </tr>\n",
       "    <tr>\n",
       "      <th>VaR(0.05)</th>\n",
       "      <td>-0.0285</td>\n",
       "    </tr>\n",
       "  </tbody>\n",
       "</table>\n",
       "</div>"
      ],
      "text/plain": [
       "            Performance Statistics\n",
       "Mean                        0.0037\n",
       "Volatility                  0.0239\n",
       "Sharpe                      0.1533\n",
       "VaR(0.05)                  -0.0285"
      ]
     },
     "metadata": {},
     "output_type": "display_data"
    },
    {
     "name": "stdout",
     "output_type": "stream",
     "text": [
      "\n",
      "Performance Statistics for CMA\n"
     ]
    },
    {
     "data": {
      "text/html": [
       "<div>\n",
       "<style scoped>\n",
       "    .dataframe tbody tr th:only-of-type {\n",
       "        vertical-align: middle;\n",
       "    }\n",
       "\n",
       "    .dataframe tbody tr th {\n",
       "        vertical-align: top;\n",
       "    }\n",
       "\n",
       "    .dataframe thead th {\n",
       "        text-align: right;\n",
       "    }\n",
       "</style>\n",
       "<table border=\"1\" class=\"dataframe\">\n",
       "  <thead>\n",
       "    <tr style=\"text-align: right;\">\n",
       "      <th></th>\n",
       "      <th>Performance Statistics</th>\n",
       "    </tr>\n",
       "  </thead>\n",
       "  <tbody>\n",
       "    <tr>\n",
       "      <th>Mean</th>\n",
       "      <td>0.0024</td>\n",
       "    </tr>\n",
       "    <tr>\n",
       "      <th>Volatility</th>\n",
       "      <td>0.0209</td>\n",
       "    </tr>\n",
       "    <tr>\n",
       "      <th>Sharpe</th>\n",
       "      <td>0.1127</td>\n",
       "    </tr>\n",
       "    <tr>\n",
       "      <th>VaR(0.05)</th>\n",
       "      <td>-0.0278</td>\n",
       "    </tr>\n",
       "  </tbody>\n",
       "</table>\n",
       "</div>"
      ],
      "text/plain": [
       "            Performance Statistics\n",
       "Mean                        0.0024\n",
       "Volatility                  0.0209\n",
       "Sharpe                      0.1127\n",
       "VaR(0.05)                  -0.0278"
      ]
     },
     "metadata": {},
     "output_type": "display_data"
    },
    {
     "name": "stdout",
     "output_type": "stream",
     "text": [
      "\n",
      "Performance Statistics for UMD\n"
     ]
    },
    {
     "data": {
      "text/html": [
       "<div>\n",
       "<style scoped>\n",
       "    .dataframe tbody tr th:only-of-type {\n",
       "        vertical-align: middle;\n",
       "    }\n",
       "\n",
       "    .dataframe tbody tr th {\n",
       "        vertical-align: top;\n",
       "    }\n",
       "\n",
       "    .dataframe thead th {\n",
       "        text-align: right;\n",
       "    }\n",
       "</style>\n",
       "<table border=\"1\" class=\"dataframe\">\n",
       "  <thead>\n",
       "    <tr style=\"text-align: right;\">\n",
       "      <th></th>\n",
       "      <th>Performance Statistics</th>\n",
       "    </tr>\n",
       "  </thead>\n",
       "  <tbody>\n",
       "    <tr>\n",
       "      <th>Mean</th>\n",
       "      <td>0.0050</td>\n",
       "    </tr>\n",
       "    <tr>\n",
       "      <th>Volatility</th>\n",
       "      <td>0.0443</td>\n",
       "    </tr>\n",
       "    <tr>\n",
       "      <th>Sharpe</th>\n",
       "      <td>0.1135</td>\n",
       "    </tr>\n",
       "    <tr>\n",
       "      <th>VaR(0.05)</th>\n",
       "      <td>-0.0673</td>\n",
       "    </tr>\n",
       "  </tbody>\n",
       "</table>\n",
       "</div>"
      ],
      "text/plain": [
       "            Performance Statistics\n",
       "Mean                        0.0050\n",
       "Volatility                  0.0443\n",
       "Sharpe                      0.1135\n",
       "VaR(0.05)                  -0.0673"
      ]
     },
     "metadata": {},
     "output_type": "display_data"
    }
   ],
   "source": [
    "factor_data= factor_data[['MKT','SMB','HML','RMW','CMA','UMD']]\n",
    "def performance_stats(series):\n",
    "    mean = series.mean()\n",
    "    vol = series.std()\n",
    "    sharpe = mean / vol\n",
    "    var_05 = np.percentile(series, 5)\n",
    "    return pd.Series({\n",
    "        'Mean': mean,\n",
    "        'Volatility': vol,\n",
    "        'Sharpe': sharpe,\n",
    "        'VaR(0.05)': var_05\n",
    "    })\n",
    "\n",
    "factors = ['MKT','SMB','HML','RMW','CMA','UMD']\n",
    "results = {}\n",
    "for factor in factors:\n",
    "    results[factor] = pd.DataFrame({\n",
    "        'Performance Statistics': performance_stats(factor_data[factor])\n",
    "    })\n",
    "    print(f\"\\nPerformance Statistics for {factor}\")\n",
    "    display(results[factor].round(4))"
   ]
  },
  {
   "cell_type": "markdown",
   "id": "94a56c4e",
   "metadata": {},
   "source": [
    "2. Based on the factor statistics above, answer the following.  \n",
    "- Does each factor have a positive risk premium (positive expected excess return)?  \n",
    "- How have the factors performed since the time of the case, (2015-present)?"
   ]
  },
  {
   "cell_type": "markdown",
   "id": "c3669cba",
   "metadata": {},
   "source": [
    "3. Report the correlation matrix across the six factors.  \n",
    "- Does the construction method succeed in keeping correlations small?  \n",
    "- Fama and French say that HML is somewhat redundant in their 5-factor model. Does this seem to be the case?  "
   ]
  },
  {
   "cell_type": "code",
   "execution_count": 16,
   "id": "d202fcba",
   "metadata": {},
   "outputs": [
    {
     "name": "stdout",
     "output_type": "stream",
     "text": [
      "Correlation matrix (Full sample):\n"
     ]
    },
    {
     "data": {
      "text/html": [
       "<div>\n",
       "<style scoped>\n",
       "    .dataframe tbody tr th:only-of-type {\n",
       "        vertical-align: middle;\n",
       "    }\n",
       "\n",
       "    .dataframe tbody tr th {\n",
       "        vertical-align: top;\n",
       "    }\n",
       "\n",
       "    .dataframe thead th {\n",
       "        text-align: right;\n",
       "    }\n",
       "</style>\n",
       "<table border=\"1\" class=\"dataframe\">\n",
       "  <thead>\n",
       "    <tr style=\"text-align: right;\">\n",
       "      <th></th>\n",
       "      <th>MKT</th>\n",
       "      <th>SMB</th>\n",
       "      <th>HML</th>\n",
       "      <th>RMW</th>\n",
       "      <th>CMA</th>\n",
       "      <th>UMD</th>\n",
       "    </tr>\n",
       "  </thead>\n",
       "  <tbody>\n",
       "    <tr>\n",
       "      <th>MKT</th>\n",
       "      <td>1.000000</td>\n",
       "      <td>0.226997</td>\n",
       "      <td>-0.207918</td>\n",
       "      <td>-0.250639</td>\n",
       "      <td>-0.346542</td>\n",
       "      <td>-0.179352</td>\n",
       "    </tr>\n",
       "    <tr>\n",
       "      <th>SMB</th>\n",
       "      <td>0.226997</td>\n",
       "      <td>1.000000</td>\n",
       "      <td>-0.021819</td>\n",
       "      <td>-0.411946</td>\n",
       "      <td>-0.051099</td>\n",
       "      <td>-0.060940</td>\n",
       "    </tr>\n",
       "    <tr>\n",
       "      <th>HML</th>\n",
       "      <td>-0.207918</td>\n",
       "      <td>-0.021819</td>\n",
       "      <td>1.000000</td>\n",
       "      <td>0.219401</td>\n",
       "      <td>0.676727</td>\n",
       "      <td>-0.215523</td>\n",
       "    </tr>\n",
       "    <tr>\n",
       "      <th>RMW</th>\n",
       "      <td>-0.250639</td>\n",
       "      <td>-0.411946</td>\n",
       "      <td>0.219401</td>\n",
       "      <td>1.000000</td>\n",
       "      <td>0.138566</td>\n",
       "      <td>0.076694</td>\n",
       "    </tr>\n",
       "    <tr>\n",
       "      <th>CMA</th>\n",
       "      <td>-0.346542</td>\n",
       "      <td>-0.051099</td>\n",
       "      <td>0.676727</td>\n",
       "      <td>0.138566</td>\n",
       "      <td>1.000000</td>\n",
       "      <td>0.000094</td>\n",
       "    </tr>\n",
       "    <tr>\n",
       "      <th>UMD</th>\n",
       "      <td>-0.179352</td>\n",
       "      <td>-0.060940</td>\n",
       "      <td>-0.215523</td>\n",
       "      <td>0.076694</td>\n",
       "      <td>0.000094</td>\n",
       "      <td>1.000000</td>\n",
       "    </tr>\n",
       "  </tbody>\n",
       "</table>\n",
       "</div>"
      ],
      "text/plain": [
       "          MKT       SMB       HML       RMW       CMA       UMD\n",
       "MKT  1.000000  0.226997 -0.207918 -0.250639 -0.346542 -0.179352\n",
       "SMB  0.226997  1.000000 -0.021819 -0.411946 -0.051099 -0.060940\n",
       "HML -0.207918 -0.021819  1.000000  0.219401  0.676727 -0.215523\n",
       "RMW -0.250639 -0.411946  0.219401  1.000000  0.138566  0.076694\n",
       "CMA -0.346542 -0.051099  0.676727  0.138566  1.000000  0.000094\n",
       "UMD -0.179352 -0.060940 -0.215523  0.076694  0.000094  1.000000"
      ]
     },
     "metadata": {},
     "output_type": "display_data"
    }
   ],
   "source": [
    "corr_full = factor_data[factors].corr()\n",
    "print(\"Correlation matrix (Full sample):\")\n",
    "display(corr_full)"
   ]
  },
  {
   "cell_type": "markdown",
   "id": "e164b73a",
   "metadata": {},
   "source": [
    "4. Report the tangency weights for a portfolio of these 6 factors.  \n",
    "- Which factors seem most important? And Least?  \n",
    "- Are the factors with low mean returns still useful?  \n",
    "- Re-do the tangency portfolio, but this time only include MKT, SMB, HML, and UMD. Which factors get high/low tangency weights now?  \n",
    "- What do you conclude about the importance or unimportance of these styles?  \n",
    "\n"
   ]
  },
  {
   "cell_type": "code",
   "execution_count": 17,
   "id": "9bea0d76",
   "metadata": {},
   "outputs": [],
   "source": [
    "def tangency_weights(returns, cov_mat = 1):\n",
    "    cov = returns.cov()\n",
    "    if cov_mat == 1:\n",
    "        cov_used = cov\n",
    "    else:\n",
    "        cov_diag = np.diag(np.diag(cov))\n",
    "        cov_used = cov_mat * cov + (1 - cov_mat) * cov_diag\n",
    "    cov_inv = np.linalg.inv(cov_used * 12)\n",
    "\n",
    "    # --- Mean returns (annualized) ---\n",
    "    mu = returns.mean() * 12\n",
    "\n",
    "    # --- Tangency portfolio computation ---\n",
    "    w_unnormalized = cov_inv @ mu\n",
    "    w_tangency = w_unnormalized / np.sum(w_unnormalized)\n",
    "\n",
    "    # --- Output as DataFrame ---\n",
    "    tangency_wts = pd.DataFrame(w_tangency, index=returns.columns, columns=['Tangency Weights'])\n",
    "    return tangency_wts.round(4)"
   ]
  },
  {
   "cell_type": "code",
   "execution_count": 18,
   "id": "d566d475",
   "metadata": {},
   "outputs": [
    {
     "data": {
      "text/html": [
       "<div>\n",
       "<style scoped>\n",
       "    .dataframe tbody tr th:only-of-type {\n",
       "        vertical-align: middle;\n",
       "    }\n",
       "\n",
       "    .dataframe tbody tr th {\n",
       "        vertical-align: top;\n",
       "    }\n",
       "\n",
       "    .dataframe thead th {\n",
       "        text-align: right;\n",
       "    }\n",
       "</style>\n",
       "<table border=\"1\" class=\"dataframe\">\n",
       "  <thead>\n",
       "    <tr style=\"text-align: right;\">\n",
       "      <th></th>\n",
       "      <th>Tangency Weights</th>\n",
       "    </tr>\n",
       "  </thead>\n",
       "  <tbody>\n",
       "    <tr>\n",
       "      <th>MKT</th>\n",
       "      <td>0.2186</td>\n",
       "    </tr>\n",
       "    <tr>\n",
       "      <th>SMB</th>\n",
       "      <td>0.0668</td>\n",
       "    </tr>\n",
       "    <tr>\n",
       "      <th>HML</th>\n",
       "      <td>-0.0212</td>\n",
       "    </tr>\n",
       "    <tr>\n",
       "      <th>RMW</th>\n",
       "      <td>0.3018</td>\n",
       "    </tr>\n",
       "    <tr>\n",
       "      <th>CMA</th>\n",
       "      <td>0.3214</td>\n",
       "    </tr>\n",
       "    <tr>\n",
       "      <th>UMD</th>\n",
       "      <td>0.1125</td>\n",
       "    </tr>\n",
       "  </tbody>\n",
       "</table>\n",
       "</div>"
      ],
      "text/plain": [
       "     Tangency Weights\n",
       "MKT            0.2186\n",
       "SMB            0.0668\n",
       "HML           -0.0212\n",
       "RMW            0.3018\n",
       "CMA            0.3214\n",
       "UMD            0.1125"
      ]
     },
     "metadata": {},
     "output_type": "display_data"
    }
   ],
   "source": [
    "returns = factor_data[factors]\n",
    "\n",
    "tangency_wts = tangency_weights(returns)\n",
    "display(tangency_wts)"
   ]
  },
  {
   "cell_type": "code",
   "execution_count": 19,
   "id": "58ef8828",
   "metadata": {},
   "outputs": [
    {
     "name": "stdout",
     "output_type": "stream",
     "text": [
      "Tangency Portfolio: Return = 0.0482, Vol = 0.0401, Sharpe = 1.2013\n"
     ]
    }
   ],
   "source": [
    "#expected annualized return, volatility, and Sharpe ratio of that tangency portfolio\n",
    "cov = returns.cov() * 12\n",
    "mu = returns.mean() * 12\n",
    "w = tangency_wts['Tangency Weights'].values\n",
    "\n",
    "port_return = w.T @ mu\n",
    "port_vol = np.sqrt(w.T @ cov @ w)\n",
    "sharpe = port_return / port_vol\n",
    "\n",
    "print(f\"Tangency Portfolio: Return = {port_return:.4f}, Vol = {port_vol:.4f}, Sharpe = {sharpe:.4f}\")\n"
   ]
  },
  {
   "cell_type": "code",
   "execution_count": 20,
   "id": "ce90d2d4",
   "metadata": {},
   "outputs": [
    {
     "data": {
      "text/html": [
       "<div>\n",
       "<style scoped>\n",
       "    .dataframe tbody tr th:only-of-type {\n",
       "        vertical-align: middle;\n",
       "    }\n",
       "\n",
       "    .dataframe tbody tr th {\n",
       "        vertical-align: top;\n",
       "    }\n",
       "\n",
       "    .dataframe thead th {\n",
       "        text-align: right;\n",
       "    }\n",
       "</style>\n",
       "<table border=\"1\" class=\"dataframe\">\n",
       "  <thead>\n",
       "    <tr style=\"text-align: right;\">\n",
       "      <th></th>\n",
       "      <th>Tangency Weights</th>\n",
       "    </tr>\n",
       "  </thead>\n",
       "  <tbody>\n",
       "    <tr>\n",
       "      <th>MKT</th>\n",
       "      <td>0.3765</td>\n",
       "    </tr>\n",
       "    <tr>\n",
       "      <th>SMB</th>\n",
       "      <td>-0.0512</td>\n",
       "    </tr>\n",
       "    <tr>\n",
       "      <th>HML</th>\n",
       "      <td>0.3653</td>\n",
       "    </tr>\n",
       "    <tr>\n",
       "      <th>UMD</th>\n",
       "      <td>0.3094</td>\n",
       "    </tr>\n",
       "  </tbody>\n",
       "</table>\n",
       "</div>"
      ],
      "text/plain": [
       "     Tangency Weights\n",
       "MKT            0.3765\n",
       "SMB           -0.0512\n",
       "HML            0.3653\n",
       "UMD            0.3094"
      ]
     },
     "metadata": {},
     "output_type": "display_data"
    }
   ],
   "source": [
    "#Redone tangency portfolio only MKT, SMB, HML, and UMD\n",
    "factors_reduced = ['MKT','SMB','HML','UMD']\n",
    "returns_reduced = factor_data[factors_reduced]\n",
    "tangency_wts_reduced = tangency_weights(returns_reduced)\n",
    "display(tangency_wts_reduced)"
   ]
  },
  {
   "cell_type": "markdown",
   "id": "0e600db2",
   "metadata": {},
   "source": [
    "## Testing Modern LPMs \n"
   ]
  },
  {
   "cell_type": "code",
   "execution_count": null,
   "id": "0d84cdcd",
   "metadata": {},
   "outputs": [],
   "source": []
  }
 ],
 "metadata": {
  "kernelspec": {
   "display_name": "base",
   "language": "python",
   "name": "python3"
  },
  "language_info": {
   "codemirror_mode": {
    "name": "ipython",
    "version": 3
   },
   "file_extension": ".py",
   "mimetype": "text/x-python",
   "name": "python",
   "nbconvert_exporter": "python",
   "pygments_lexer": "ipython3",
   "version": "3.13.5"
  }
 },
 "nbformat": 4,
 "nbformat_minor": 5
}
